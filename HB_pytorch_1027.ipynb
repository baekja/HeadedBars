{
 "cells": [
  {
   "cell_type": "code",
   "execution_count": 2,
   "id": "32786ac4",
   "metadata": {},
   "outputs": [],
   "source": [
    "import pandas as pd\n",
    "import numpy as np\n",
    "import matplotlib.pyplot as plt\n",
    "import seaborn as sns\n",
    "import torch\n",
    "import torch.nn as nn\n",
    "import torch.nn.functional as F\n",
    "import torchsummary\n",
    "import torch.optim as optim\n",
    "import os\n",
    "import openpyxl\n",
    "from torch.utils.data import TensorDataset, DataLoader,random_split\n",
    "#import tensorflow as tf\n",
    "\n",
    "df = pd.read_excel(\"Data for headed bars_for DataFrame_220725.xlsx\", skiprows = 17, engine = 'openpyxl', sheet_name= 'headed (2)' )\n",
    "df = pd.DataFrame(df, columns = [\"No.\", \"Author\", \"Year\", \"Test type\", \"Remark\", \"Specimen\", \"fy\", \"Ld\", \"fcm\", \"db\", \"b\", \"cos,avg\",\n",
    "                                 \"cth\", \"ch\", \"Nh\", \"Bottom cover\", \"Ah/Ab\", \"Fsu at La, test\", \"dtr\", \"Ntr\", \"st\"]) # st 제거시\n",
    "\n",
    "df = df[df[\"Test type\"] == \"Joint type\"]\n",
    "y= df[\"Fsu at La, test\"] \n",
    "\n",
    "pd.set_option('display.max_rows',None)\n",
    "\n",
    "y2=y[~y.isnull()]\n",
    "X = df[[\"Test type\", \"fy\", \"Ld\", \"fcm\", \"db\", \"b\", \"cos,avg\", \"cth\", \"ch\", \"Nh\", \"Bottom cover\", \"Ah/Ab\", \"st\"]] \n",
    "\n",
    "X = pd.get_dummies(data = X, columns = [\"Test type\"], prefix = \"Test_type\")\n",
    "X = X[~y.isnull()]\n",
    "\n",
    "pd.options.display.max_rows = None\n",
    "X.dropna(inplace = True)\n",
    "\n",
    "y2 = y2[X.index]\n",
    "y2 = y2.loc[(y2 != 0)] # series\n",
    "X = X.loc[y2.index] # DataFrame"
   ]
  },
  {
   "cell_type": "markdown",
   "id": "6a71a52b",
   "metadata": {},
   "source": [
    "* train, test 분류"
   ]
  },
  {
   "cell_type": "code",
   "execution_count": 3,
   "id": "4ec08cbe",
   "metadata": {},
   "outputs": [],
   "source": [
    "#test, train+valid 분류\n",
    "from sklearn.model_selection import train_test_split\n",
    "np.random.seed(0)\n",
    "X_train, X_test, y_train, y_test = train_test_split(X, y2, test_size=0.20, random_state=142)"
   ]
  },
  {
   "cell_type": "markdown",
   "id": "ebf0b136",
   "metadata": {},
   "source": [
    "* 분류한 데이터 스케일링 후 텐서로 변환"
   ]
  },
  {
   "cell_type": "code",
   "execution_count": 4,
   "id": "b60f9015",
   "metadata": {},
   "outputs": [],
   "source": [
    "# 분류한 데이터 스케일링\n",
    "from sklearn.preprocessing import MinMaxScaler\n",
    "scX = MinMaxScaler() #형태는 넘파이\n",
    "x_train_scaled = scX.fit_transform(X_train)   \n",
    "x_test_scaled = scX.transform(X_test)\n",
    "\n",
    "scY = MinMaxScaler()\n",
    "y_train_scaled = scY.fit_transform(y_train.values.reshape(-1,1)) \n",
    "y_test_scaled = scY.transform(y_test.values.reshape(-1,1))\n",
    "\n",
    "#스케일링->텐서로\n",
    "x_test_tensor = torch.FloatTensor(x_test_scaled)\n",
    "y_test_tensor = torch.FloatTensor(y_test_scaled)\n",
    "x_train_tensor = torch.FloatTensor(x_train_scaled)\n",
    "y_train_tensor = torch.FloatTensor(y_train_scaled)"
   ]
  },
  {
   "cell_type": "markdown",
   "id": "ce38f51c",
   "metadata": {},
   "source": [
    "* 파이토치 이용한 모델 구현"
   ]
  },
  {
   "cell_type": "code",
   "execution_count": 5,
   "id": "bbf063d2",
   "metadata": {},
   "outputs": [
    {
     "name": "stdout",
     "output_type": "stream",
     "text": [
      "Training Data Size : 172\n",
      "Validation Data Size : 44\n"
     ]
    }
   ],
   "source": [
    "#데이터 모델 클래스로 구현\n",
    "class TorchModel(nn.Module):\n",
    "    def __init__(self):\n",
    "        super(TorchModel, self).__init__()\n",
    "        self.layer = nn.Linear(13, 1)\n",
    "\n",
    "    def forward(self, x):\n",
    "        return self.layer(x)\n",
    "    \n",
    "#커스텀 데이터 셋\n",
    "class CustomDataset(TensorDataset): \n",
    "    def __init__(self):\n",
    "        self.x = x_train_tensor\n",
    "        self.y = y_train_tensor\n",
    "    \n",
    "    def __getitem__(self, idx):\n",
    "        x = torch.FloatTensor(self.x[idx])\n",
    "        y = torch.FloatTensor(self.y[idx]) \n",
    "        return x, y\n",
    "    \n",
    "    def __len__(self): \n",
    "        return len(self.x)\n",
    "\n",
    "#데이터 셋에서 train, validation 나누기 \n",
    "dataset = CustomDataset()\n",
    "dataset_size = len(dataset)\n",
    "train_size = int(dataset_size * 0.8)\n",
    "validation_size = dataset_size - train_size\n",
    "\n",
    "train_dataset, validation_dataset = random_split(dataset, [train_size, validation_size])\n",
    "print(f\"Training Data Size : {len(train_dataset)}\")\n",
    "print(f\"Validation Data Size : {len(validation_dataset)}\")\n",
    "\n",
    "# 데이터 로더\n",
    "train_dataloader = DataLoader(train_dataset, batch_size=32, shuffle=True, drop_last=True)\n",
    "validation_dataloader = DataLoader(validation_dataset, batch_size=4, shuffle=True)"
   ]
  },
  {
   "cell_type": "markdown",
   "id": "aab14e26",
   "metadata": {},
   "source": [
    "학습"
   ]
  },
  {
   "cell_type": "code",
   "execution_count": 7,
   "id": "f4e66eac",
   "metadata": {},
   "outputs": [
    {
     "name": "stdout",
     "output_type": "stream",
     "text": [
      "Epoch:   0/1000 Train Loss: 0.204022 Val Loss: 0.083150\n",
      "Epoch: 100/1000 Train Loss: 0.010719 Val Loss: 0.018070\n",
      "Epoch: 200/1000 Train Loss: 0.010919 Val Loss: 0.017326\n",
      "Epoch: 300/1000 Train Loss: 0.013112 Val Loss: 0.017823\n",
      "Epoch: 400/1000 Train Loss: 0.011683 Val Loss: 0.019789\n",
      "Epoch: 500/1000 Train Loss: 0.011976 Val Loss: 0.018070\n",
      "Epoch: 600/1000 Train Loss: 0.011454 Val Loss: 0.016186\n",
      "Epoch: 700/1000 Train Loss: 0.012316 Val Loss: 0.017520\n",
      "Epoch: 800/1000 Train Loss: 0.011016 Val Loss: 0.018197\n",
      "Epoch: 900/1000 Train Loss: 0.011684 Val Loss: 0.021222\n",
      "Epoch:1000/1000 Train Loss: 0.012062 Val Loss: 0.017861\n"
     ]
    }
   ],
   "source": [
    "\n",
    "train_losses = []\n",
    "val_losses = []\n",
    "train_acc = []\n",
    "val_acc = []\n",
    "\n",
    "device = \"cuda\" if torch.cuda.is_available() else \"cpu\"\n",
    "model = TorchModel().to(device)\n",
    "criterion = nn.MSELoss().to(device) #\n",
    "optimizer = torch.optim.Adam(model.parameters(), lr = 0.03) #\n",
    "nb_epochs = 1000\n",
    "\n",
    "# 모델 학습\n",
    "for epoch in range(nb_epochs+1):\n",
    "    train_loss = 0       \n",
    "    train_accuracy = 0\n",
    "    accuracy = 0\n",
    "    for _,data in enumerate(train_dataloader):\n",
    "        x,y =data\n",
    "        x = x.to(device)\n",
    "        y_train = y.to(device)\n",
    "        p_train = model(x)\n",
    "        train_cost =criterion(p_train, y_train)\n",
    "        \n",
    "        optimizer.zero_grad()\n",
    "        train_cost.backward()\n",
    "        optimizer.step()\n",
    "        \n",
    "        train_loss += train_cost.item()\n",
    "      \n",
    "    # 모델 검증\n",
    "    model.eval()\n",
    "    val_loss = 0\n",
    "    with torch.no_grad():\n",
    "        for _,data in enumerate(validation_dataloader):\n",
    "            x,y = data\n",
    "            x = x.to(device)\n",
    "            y_val = y.to(device)\n",
    "            p_val = model(x)\n",
    "            val_cost = criterion(p_val, y_val)\n",
    "            \n",
    "            val_loss += val_cost.item()\n",
    "           \n",
    "    # calculate mean for each batch\n",
    "    train_losses.append(train_loss / len(train_dataloader))\n",
    "    val_losses.append(val_loss / len(validation_dataloader))\n",
    "   \n",
    "    if epoch % 100== 0:\n",
    "        print(\"Epoch:{:4d}/{}\".format(epoch, nb_epochs),\n",
    "              \"Train Loss: {:.6f}\".format(train_loss / len(train_dataloader)),\n",
    "              \"Val Loss: {:.6f}\".format(val_loss / len(validation_dataloader)))\n",
    "              \n",
    "\n",
    "history = {'train_loss': train_losses, 'val_loss': val_losses,\n",
    "            'y_train':y_train,'p_train': p_train ,'y_val': y_val, 'p_val':p_val}"
   ]
  },
  {
   "cell_type": "code",
   "execution_count": 8,
   "id": "64041653",
   "metadata": {},
   "outputs": [
    {
     "data": {
      "text/plain": [
       "(<matplotlib.legend.Legend at 0x2994060edd8>, None)"
      ]
     },
     "execution_count": 8,
     "metadata": {},
     "output_type": "execute_result"
    },
    {
     "data": {
      "image/png": "[encoded data removed]",
      "text/plain": [
       "<Figure size 576x288 with 1 Axes>"
      ]
     },
     "metadata": {
      "needs_background": "light"
     },
     "output_type": "display_data"
    }
   ],
   "source": [
    "plt.figure(figsize = (8,4))\n",
    "plt.plot(history['train_loss'],label = \"Train loss\")\n",
    "plt.plot(history['val_loss'],label = \"Valid loss\")\n",
    "plt.title(f'Loss', color='white', fontweight = 'bold')\n",
    "plt.ylabel('Loss', color='white')\n",
    "plt.xlabel('epoch', color='white')\n",
    "plt.legend(), plt.grid()"
   ]
  },
  {
   "cell_type": "markdown",
   "id": "80ea241b",
   "metadata": {},
   "source": [
    "평가"
   ]
  },
  {
   "cell_type": "code",
   "execution_count": 9,
   "id": "e12191ed",
   "metadata": {},
   "outputs": [
    {
     "data": {
      "text/plain": [
       "(tensor([[0.0262],\n",
       "         [0.4122],\n",
       "         [0.4733],\n",
       "         [0.4232],\n",
       "         [0.4575],\n",
       "         [0.3438],\n",
       "         [0.5975],\n",
       "         [0.3968],\n",
       "         [0.5662],\n",
       "         [0.3218]], grad_fn=<SliceBackward>),\n",
       " array([[0.00630971],\n",
       "        [0.61743428],\n",
       "        [0.41448432],\n",
       "        [0.3316623 ],\n",
       "        [0.50594864],\n",
       "        [0.37568401],\n",
       "        [0.65718885],\n",
       "        [0.52827458],\n",
       "        [0.81275021],\n",
       "        [0.24812009]]))"
      ]
     },
     "execution_count": 9,
     "metadata": {},
     "output_type": "execute_result"
    }
   ],
   "source": [
    "p_test = model(x_test_tensor)\n",
    "p_test[:10], y_test_scaled[:10]"
   ]
  },
  {
   "cell_type": "code",
   "execution_count": 11,
   "id": "32103b63",
   "metadata": {},
   "outputs": [
    {
     "name": "stdout",
     "output_type": "stream",
     "text": [
      "54 [[ 118.78727634]\n",
      " [ 704.        ]\n",
      " [ 509.65517241]\n",
      " [ 430.34482759]\n",
      " [ 597.24137931]\n",
      " [ 472.5       ]\n",
      " [ 742.06896552]\n",
      " [ 618.62068966]\n",
      " [ 891.03448276]\n",
      " [ 350.34482759]\n",
      " [ 540.        ]\n",
      " [ 661.37931034]\n",
      " [ 759.31034483]\n",
      " [ 189.65517241]\n",
      " [ 337.77148436]\n",
      " [ 367.        ]\n",
      " [ 346.71249424]\n",
      " [ 416.55172414]\n",
      " [ 550.        ]\n",
      " [ 892.4137931 ]\n",
      " [ 967.5862069 ]\n",
      " [ 951.72413793]\n",
      " [ 707.        ]\n",
      " [ 354.48275862]\n",
      " [ 657.93103448]\n",
      " [ 726.89655172]\n",
      " [ 907.5862069 ]\n",
      " [ 382.47653376]\n",
      " [ 312.5       ]\n",
      " [ 698.62068966]\n",
      " [ 354.66005857]\n",
      " [ 291.72413793]\n",
      " [ 417.        ]\n",
      " [ 275.86206897]\n",
      " [ 413.27334556]\n",
      " [ 626.89655172]\n",
      " [ 777.93103448]\n",
      " [ 623.44827586]\n",
      " [ 269.22374194]\n",
      " [ 544.82758621]\n",
      " [ 686.89655172]\n",
      " [ 534.48275862]\n",
      " [ 391.03448276]\n",
      " [ 687.5862069 ]\n",
      " [ 349.65517241]\n",
      " [ 446.89655172]\n",
      " [ 586.        ]\n",
      " [ 947.5862069 ]\n",
      " [1040.68965517]\n",
      " [ 320.68965517]\n",
      " [ 760.68965517]\n",
      " [ 843.44827586]\n",
      " [ 388.27586207]\n",
      " [ 538.7723909 ]] <class 'numpy.ndarray'>\n",
      "54 [[137.86107]\n",
      " [507.46036]\n",
      " [566.0111 ]\n",
      " [518.002  ]\n",
      " [550.82837]\n",
      " [441.93683]\n",
      " [684.89465]\n",
      " [492.7094 ]\n",
      " [654.93195]\n",
      " [420.92838]\n",
      " [624.2777 ]\n",
      " [654.82263]\n",
      " [533.9639 ]\n",
      " [255.2102 ]\n",
      " [269.0462 ]\n",
      " [361.46402]\n",
      " [192.54214]\n",
      " [408.31238]\n",
      " [733.03284]\n",
      " [676.22864]\n",
      " [673.1268 ]\n",
      " [721.369  ]\n",
      " [507.46036]\n",
      " [390.1422 ]\n",
      " [620.6246 ]\n",
      " [720.9975 ]\n",
      " [727.761  ]\n",
      " [284.47516]\n",
      " [354.33282]\n",
      " [749.3502 ]\n",
      " [268.94482]\n",
      " [460.8175 ]\n",
      " [335.6999 ]\n",
      " [259.9374 ]\n",
      " [324.28336]\n",
      " [657.1938 ]\n",
      " [599.4649 ]\n",
      " [614.2876 ]\n",
      " [268.63254]\n",
      " [559.93634]\n",
      " [606.11975]\n",
      " [511.28775]\n",
      " [505.99765]\n",
      " [560.1991 ]\n",
      " [460.05414]\n",
      " [446.13928]\n",
      " [651.1998 ]\n",
      " [687.41876]\n",
      " [784.0647 ]\n",
      " [342.61142]\n",
      " [818.0244 ]\n",
      " [658.4523 ]\n",
      " [523.1027 ]\n",
      " [538.46027]]\n"
     ]
    }
   ],
   "source": [
    "y_test_unscaled = scY.inverse_transform(y_test_scaled)  \n",
    "print(len(y_test_unscaled),y_test_unscaled, type(y_test_unscaled))\n",
    "\n",
    "p_test_unscaled = scY.inverse_transform(p_test.detach().numpy())\n",
    "print(len(p_test_unscaled),p_test_unscaled)"
   ]
  },
  {
   "cell_type": "code",
   "execution_count": 24,
   "id": "e7446dfa",
   "metadata": {},
   "outputs": [
    {
     "name": "stderr",
     "output_type": "stream",
     "text": [
      "c:\\Users\\lihwa\\anaconda3\\envs\\trial1\\lib\\site-packages\\ipykernel_launcher.py:10: UserWarning: Matplotlib is currently using module://ipykernel.pylab.backend_inline, which is a non-GUI backend, so cannot show the figure.\n",
      "  # Remove the CWD from sys.path while we load stuff.\n"
     ]
    },
    {
     "data": {
      "image/png": "[encoded data removed]",
      "text/plain": [
       "<Figure size 432x432 with 1 Axes>"
      ]
     },
     "metadata": {
      "needs_background": "light"
     },
     "output_type": "display_data"
    }
   ],
   "source": [
    "import matplotlib.pyplot as plt\n",
    "fig, ax = plt.subplots(figsize=(6,6))\n",
    "\n",
    "ax.plot(y_test_unscaled, p_test_unscaled, 'r.')\n",
    "ax.set_xlabel(\"Tested tensile stress, ft_test (MPa)\", fontsize = 14,color = 'white')\n",
    "ax.set_ylabel(\"Predicted tensile stress, ft_pred (MPa)\", fontsize = 14, color = 'white')\n",
    "x = np.linspace(0, 1000, 100)\n",
    "y = x\n",
    "ax.plot(x, y, 'b')\n",
    "fig.show()\n"
   ]
  },
  {
   "cell_type": "code",
   "execution_count": 15,
   "id": "ec18f5a6",
   "metadata": {},
   "outputs": [
    {
     "name": "stdout",
     "output_type": "stream",
     "text": [
      "[[450.6        217.          24.6         35.8        220.\n",
      "   92.1        205.           0.           1.         369.\n",
      "    5.         217.           1.        ]\n",
      " [649.         127.2        129.9         31.8        396.\n",
      "   31.8         43.8        268.8          2.          84.8\n",
      "    5.         127.2          1.        ]\n",
      " [799.31034483 233.426       46.27586207  25.4        439.42\n",
      "   66.04        82.55       256.54         2.         260.35\n",
      "    5.5        233.426        1.        ]\n",
      " [889.65517241 304.8         83.03448276  25.4        378.46\n",
      "   62.23        76.2         50.8          4.         260.35\n",
      "    5.1        304.8          1.        ]\n",
      " [799.31034483 203.2         40.68965517  25.4        439.42\n",
      "   67.31        86.36       254.           2.         260.35\n",
      "    5.5         76.2          1.        ]\n",
      " [583.         573.          51.4         57.3        584.46\n",
      "   57.3         56.         355.26         2.         289.\n",
      "    5.         275.           1.        ]\n",
      " [799.31034483 358.902       37.93103448  25.4        431.8\n",
      "   63.5         85.09       254.           2.         260.35\n",
      "    5.5        358.902        1.        ]\n",
      " [799.31034483 209.55        60.68965517  25.4        439.42\n",
      "   66.04        83.82       256.54         2.         508.\n",
      "   15.9        209.55         1.        ]\n",
      " [799.31034483 426.974       74.89655172  35.814      551.18\n",
      "   67.31       106.68       344.932        2.         508.\n",
      "    5.5        101.6          1.        ]\n",
      " [931.03448276 319.024       27.93103448  35.814      558.8\n",
      "   69.85        86.36       347.472        2.         508.\n",
      "    9.6        101.6          1.        ]\n",
      " [606.         559.          44.3         43.         430.\n",
      "   86.          56.         172.           2.         272.66666667\n",
      "    5.         559.           1.        ]\n",
      " [799.31034483 143.002      110.55172414  25.4        426.72\n",
      "   59.69        80.01       256.54         2.         260.35\n",
      "   10.5         76.2          1.        ]\n",
      " [799.31034483 209.55        60.68965517  25.4        439.42\n",
      "   67.31        78.74       254.           2.         508.\n",
      "   15.9         76.2          1.        ]\n",
      " [827.5862069  155.702       35.5862069   25.4        431.8\n",
      "   67.31       167.64        65.19333333   4.         260.35\n",
      "   10.5        155.702        1.        ]\n",
      " [556.         280.          34.5         35.8        305.\n",
      "   76.          76.          81.4          2.         280.\n",
      "    3.00517277 280.           1.        ]\n",
      " [583.         573.          51.4         57.3        584.46\n",
      "   57.3         56.         355.26         2.         289.\n",
      "    5.         573.           1.        ]\n",
      " [556.         209.          35.2         35.8        305.\n",
      "   76.          76.          81.4          2.         280.\n",
      "    4.19730742 209.           1.        ]\n",
      " [799.31034483 228.6         46.27586207  25.4        231.14\n",
      "   63.5         88.9         53.34         2.         260.35\n",
      "    5.5        228.6          1.        ]\n",
      " [583.         744.9         40.5         57.3        699.06\n",
      "  114.6         56.         355.26         2.         376.6\n",
      "    5.         744.9          1.        ]\n",
      " [799.31034483 362.458       37.37931034  25.4        439.42\n",
      "   63.5         83.82       118.11         3.         260.35\n",
      "   10.1         76.2          1.        ]\n",
      " [958.62068966 153.924       32.34482759  15.875      332.74\n",
      "   64.77        80.01       171.45         2.         133.35\n",
      "    5.          44.45         1.        ]\n",
      " [827.5862069  315.976       34.96551724  25.4        444.5\n",
      "   74.93        83.82       243.84         2.         260.35\n",
      "    5.         101.6          1.        ]\n",
      " [649.         127.2        129.9         31.8        396.\n",
      "   31.8         43.8        268.8          2.          84.8\n",
      "    5.         127.2          1.        ]\n",
      " [889.65517241 250.952       33.65517241  25.4        441.96\n",
      "   64.77        83.82       261.62         2.         508.\n",
      "    5.1        250.952        1.        ]\n",
      " [889.65517241 305.816       83.03448276  25.4        375.92\n",
      "   60.96        76.2         88.9          3.         260.35\n",
      "   10.1        305.816        1.        ]\n",
      " [827.5862069  241.3        110.55172414  25.4        431.8\n",
      "   63.5        114.3        254.           2.         260.35\n",
      "    5.         241.3          1.        ]\n",
      " [827.5862069  369.316       70.20689655  25.4        508.\n",
      "   63.5         76.2        152.4          3.         260.35\n",
      "   10.5        369.316        1.        ]\n",
      " [556.         280.          33.3         35.8        305.\n",
      "   76.          76.          81.4          2.         280.\n",
      "    5.46395048 280.           1.        ]\n",
      " [606.         301.          47.9         43.         541.8\n",
      "   43.          56.         369.8          2.         138.16666667\n",
      "    5.         301.           1.        ]\n",
      " [958.62068966 104.902       76.06896552  15.875      330.2\n",
      "   63.5        124.46       171.45         2.         133.35\n",
      "   14.1        104.902        1.        ]\n",
      " [556.         285.          32.3         35.8        305.\n",
      "   76.          76.          81.4          2.         280.\n",
      "    2.95053326 285.           1.        ]\n",
      " [889.65517241 155.702       34.06896552  25.4        439.42\n",
      "   71.12       177.8        246.38         2.         260.35\n",
      "   10.1        155.702        1.        ]\n",
      " [606.         301.          47.9         43.         541.8\n",
      "   43.          56.         369.8          2.         138.16666667\n",
      "    5.         370.           1.        ]\n",
      " [889.65517241 153.162       35.5862069   25.4        441.96\n",
      "   64.77       184.15        70.27333333   4.         260.35\n",
      "   10.1         76.2          1.        ]\n",
      " [556.         280.          37.2         35.8        305.\n",
      "   76.          76.          81.4          2.         280.\n",
      "    3.00517277 102.           1.        ]\n",
      " [889.65517241 246.126       81.10344828  25.4        429.26\n",
      "   63.5         87.63       251.46         2.         260.35\n",
      "    5.1        246.126        1.        ]\n",
      " [931.03448276 430.276       69.79310345  35.814      566.42\n",
      "   72.39        86.36       350.012        2.         508.\n",
      "    6.5        430.276        1.        ]\n",
      " [958.62068966 128.016       76.06896552  15.875      332.74\n",
      "   63.5        107.442       79.0575       3.         133.35\n",
      "    5.         128.016        1.        ]\n",
      " [556.         280.          34.5         35.8        305.\n",
      "   76.          76.          81.4          2.         280.\n",
      "    2.95053326 280.           1.        ]\n",
      " [958.62068966 103.124       33.17241379  15.875      327.66\n",
      "   63.5        133.35       168.91         2.         133.35\n",
      "    5.         103.124        1.        ]\n",
      " [827.5862069  242.824       35.10344828  25.4        439.42\n",
      "   71.12        77.47       246.38         2.         260.35\n",
      "    5.          76.2          1.        ]\n",
      " [799.31034483 357.124       38.4137931   25.4        426.72\n",
      "   62.23        86.36        66.88666667   4.         260.35\n",
      "   10.1        357.124        1.        ]\n",
      " [931.03448276 373.126       59.72413793  35.814      553.72\n",
      "   64.77        81.28       352.552        2.         508.\n",
      "    4.8        203.2          1.        ]\n",
      " [958.62068966 127.762       76.06896552  15.875      330.2\n",
      "   63.5        101.6         46.56666667   4.         133.35\n",
      "    5.          88.9          1.        ]\n",
      " [931.03448276 368.3         59.72413793  35.814      553.72\n",
      "   67.31        86.36       347.472        2.         508.\n",
      "    4.8        368.3          1.        ]\n",
      " [799.31034483 228.6         46.27586207  25.4        287.02\n",
      "   63.5         90.17       109.22         2.         260.35\n",
      "    5.5        228.6          1.        ]\n",
      " [583.         744.9         40.5         57.3        584.46\n",
      "   57.3         56.         355.26         2.         376.6\n",
      "    5.         138.           1.        ]\n",
      " [889.65517241 302.26        83.03448276  25.4        381.\n",
      "   63.5         78.74        88.9          3.         260.35\n",
      "   10.1         76.2          1.        ]\n",
      " [799.31034483 357.886       34.27586207  25.4        431.8\n",
      "   63.5         87.63       254.           2.         260.35\n",
      "   10.1         76.2          1.        ]\n",
      " [931.03448276 369.316       60.13793103  35.814      553.72\n",
      "   64.77        82.804      158.369        3.         508.\n",
      "    4.8        203.2          1.        ]\n",
      " [799.31034483 246.126      110.55172414  25.4        426.72\n",
      "   63.5         72.39       248.92         2.         260.35\n",
      "   15.9        246.126        1.        ]\n",
      " [958.62068966 152.4         32.34482759  15.875      332.74\n",
      "   64.77        81.28       171.45         2.         133.35\n",
      "    5.          88.9          1.        ]\n",
      " [827.5862069  241.3         68.55172414  25.4        406.4\n",
      "   63.5         83.82       101.6          3.         260.35\n",
      "   10.5        241.3          1.        ]\n",
      " [578.         287.          38.3         25.4        305.\n",
      "   76.          76.         102.2          2.         280.\n",
      "    6.31528077 287.           1.        ]]\n"
     ]
    }
   ],
   "source": [
    "x_test_unscaled = scX.inverse_transform(x_test_scaled)  \n",
    "print(x_test_unscaled)"
   ]
  },
  {
   "cell_type": "markdown",
   "id": "d612d262",
   "metadata": {},
   "source": [
    "모델 평가"
   ]
  },
  {
   "cell_type": "code",
   "execution_count": 23,
   "id": "2e73594a",
   "metadata": {},
   "outputs": [
    {
     "name": "stdout",
     "output_type": "stream",
     "text": [
      "test_loss: 0.9365911781787872\n"
     ]
    }
   ],
   "source": [
    "test_loss = 0\n",
    "model.eval()\n",
    "with torch.no_grad():\n",
    "    for i in range(len(y_test_unscaled)):\n",
    "        pred = model(x_test_tensor)\n",
    "        cost = criterion(pred, y_test_tensor)\n",
    "        test_loss += cost.item()\n",
    "        \n",
    "    print('test_loss:',test_loss)"
   ]
  },
  {
   "cell_type": "code",
   "execution_count": 18,
   "id": "151588b5",
   "metadata": {},
   "outputs": [
    {
     "name": "stdout",
     "output_type": "stream",
     "text": [
      "0.2173414124863763\n"
     ]
    }
   ],
   "source": [
    "division = p_test_unscaled / y_test_unscaled\n",
    "cov = np.std(division) / np.mean(division)\n",
    "print(cov)"
   ]
  },
  {
   "cell_type": "code",
   "execution_count": 21,
   "id": "fc500906",
   "metadata": {},
   "outputs": [
    {
     "data": {
      "text/plain": [
       "0.6727498929994472"
      ]
     },
     "execution_count": 21,
     "metadata": {},
     "output_type": "execute_result"
    }
   ],
   "source": [
    "from sklearn.metrics import r2_score\n",
    "r2_score(y_test_unscaled, p_test_unscaled)"
   ]
  },
  {
   "cell_type": "markdown",
   "id": "cd8a7660",
   "metadata": {},
   "source": [
    "## 테스트 정확도 "
   ]
  },
  {
   "cell_type": "code",
   "execution_count": 22,
   "id": "4d191d63",
   "metadata": {},
   "outputs": [
    {
     "name": "stdout",
     "output_type": "stream",
     "text": [
      "test_loss: 0.9365911781787872\n",
      "test_acc:0.35185\n"
     ]
    }
   ],
   "source": [
    "def total(y_test_unscaled, y_p_unscaled, tol = 50):\n",
    "    return abs(y_test_unscaled - y_p_unscaled) <= tol\n",
    "test_loss = 0\n",
    "accuracy = 0\n",
    "wrong = 0\n",
    "w=[]\n",
    "model.eval()\n",
    "with torch.no_grad():\n",
    "    for i in range(len(y_test_unscaled)):\n",
    "        pred = model(x_test_tensor)\n",
    "        cost = criterion(pred, y_test_tensor)\n",
    "        test_loss += cost.item()\n",
    "        if total(p_test_unscaled[i], y_test_unscaled[i]):\n",
    "            accuracy +=1\n",
    "        else:\n",
    "            wrong +=1\n",
    "    test_accuracy = accuracy /len(p_test_unscaled) \n",
    "    print('test_loss:',test_loss)\n",
    "    print(f'test_acc:{test_accuracy:.5f}')"
   ]
  }
 ],
 "metadata": {
  "kernelspec": {
   "display_name": "Python 3",
   "language": "python",
   "name": "python3"
  },
  "language_info": {
   "codemirror_mode": {
    "name": "ipython",
    "version": 3
   },
   "file_extension": ".py",
   "mimetype": "text/x-python",
   "name": "python",
   "nbconvert_exporter": "python",
   "pygments_lexer": "ipython3",
   "version": "3.6.13"
  }
 },
 "nbformat": 4,
 "nbformat_minor": 5
}
